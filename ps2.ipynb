{
 "cells": [
  {
   "attachments": {},
   "cell_type": "markdown",
   "metadata": {},
   "source": [
    "# Solving Krussel-Smith with Deep Equilibrium Nets\n",
    "*Simon Lebastard, 02/07/2023*\n",
    "\n",
    "## Krussel-Smith (1998) model\n",
    "In the KS'98 model, we look a flavour of the stochastic growth model with a continuum of households under partially uninsurable risk.\n",
    "\n",
    "**Demand side**\n",
    "$$V(c) = \\mathrm{E}_0\\Big[\\sum_{t=0}^{\\infty}{\\beta^t U(c_t)}\\Big]$$\n",
    "with\n",
    "$$U(c) = \\lim_{\\nu \\to \\sigma}{\\frac{c^{1-\\nu} - 1}{1 - \\nu}}$$\n",
    "\n",
    "Agents are each endowed with $\\epsilon \\tilde{l}$ units of labor per period, where $\\epsilon$ is a first-order Markov chain. (In K&S'98, $\\epsilon$ can only take two values: 0 and 1, representing unemployed and employed idiosyncratic states, respectively).\n",
    "As a very large number of agents is consided, and by assumed independence of the idiosyncratic shocks, K&S'98 assume that the total number of employed and unemployed people remain constant over time. That is, there is no aggregate fluctuations of jobs supply.\n",
    "\n",
    "Idiosyncratic endogenous state: $k$ holding of capital\n",
    "Idiosyncratic exogenous state: $\\epsilon$ at the individual level\n",
    "$\\Gamma$ the joint distribution of idiosyncratic states $(k,\\epsilon)$\n",
    "\n",
    "Given the aggregate states (see $z$ defined below), the consumer's optimization problem is:\n",
    "$$v(k,\\epsilon;\\Gamma,z) = \\max_{c,k'}{ \\Big\\{ U(c) + \\beta\\mathrm{E}\\Big[v(k',\\epsilon';\\Gamma',z') \\mid z,\\epsilon \\Big] \\Big\\} } $$\n",
    "under budget constraint, rational expectations wrt law of motion and non-negative capital holding.\n",
    "\n",
    "The budget constraint writes:\n",
    "$$c+k' = r(\\hat{k},\\hat{l},z)k + w(\\hat{k},\\hat{l},z)\\tilde{l}\\epsilon + (1-\\delta)k$$\n",
    "\n",
    "**Supply side**\n",
    "A single-type good is produced using two factors of production: labor $l$ and capital $k$.\n",
    "The good is produced according to a Cobb-Douglas production function:\n",
    "$$y = zk^{\\alpha}l^{1-\\alpha}, \\quad \\alpha \\in [0,1]$$\n",
    "The TFP is stochastic and coresponds to the source of aggregate risk. In K&S'98, two aggregate states are considered: $(z_b, z_g)$.\n",
    "Again, $z$ follows a first-order Markov chain.\n",
    "\n",
    "We assume the production market to be competitive, such that wages $w$ and rental rates $r$, both functions of aggregate states, are respectively determined by:\n",
    "$$w(\\hat{k},\\hat{l},z) = (1 - \\alpha)z(\\frac{\\hat{k}}{\\hat{l}})^\\alpha$$\n",
    "$$r(\\hat{k},\\hat{l},z) = \\alpha z(\\frac{\\hat{k}}{\\hat{l}})^{\\alpha-1}$$\n",
    "\n",
    "Here we assume that as the population of households is infinitely large, the share of unemployed remains constant. Moreover, here consumers have no disutility from labor, implying that the labor supply at each period is constant at $L_s = N*\\mathrm{E}\\big[\\epsilon\\big]$.\n",
    "We have the market clearing condition for the capital/cons good: $$\\int{(c(k,\\epsilon;\\Gamma,z) + k'(k,\\epsilon;\\Gamma,z))dF(\\Gamma)} = (1-\\delta)\\int{k dF(\\Gamma)} + z\\int{k dF(\\Gamma)}^{\\alpha}L_s^{1-\\alpha}$$\n",
    "\n",
    "For both Markov chains, we assume the economy is already running at the stationary distribution.\n",
    "\n",
    "**Law of motion**\n",
    "$$\\Gamma' = H(\\Gamma,z,z')$$\n",
    "\n",
    "\n",
    "### Formulating the problem for solving with DEN\n",
    "Here we will consider two \"implicit\" policy functions for which we solve:\n",
    "- Next-period capital $k'(k,\\epsilon;\\Gamma,z)$\n",
    "- The Lagrange multiplier on the next-period capital non-negativity constraint: $\\mu_k(k,\\epsilon;\\Gamma,z)$\n",
    "- The Lagrange multiplier on the positivity of current-period consumption, ie of the residual of the budget constraint: $\\mu_c(k,\\epsilon;\\Gamma,z)$\n",
    "\n",
    "As in Azinovic et al, we simulate $N$ agents, and index $i \\in [1,...,N]$.\n",
    "\n",
    "#### Idiosyncratic error terms\n",
    "The Euler equation can be obtained by taking the FOC of the consumer's objective function with respect to next-period capital:\n",
    "$$1 = \\beta(1-\\delta)\\mathrm{E}\\Big[\\Big(\\frac{c(k,\\epsilon;\\Gamma,z)}{c(k',\\epsilon';\\Gamma',z')}\\Big)^{\\nu} \\mid z,\\epsilon\\Big] - \\big(\\mu_c(k,\\epsilon;\\Gamma,z) - \\mu_k(k,\\epsilon;\\Gamma,z) \\big)c(k,\\epsilon;\\Gamma,z)^{\\nu}$$\n",
    "\n",
    "Based on that, we defined the Euler error as:\n",
    "$$e_{EE}(k,\\epsilon,\\Gamma,z) \\equiv \\bigg[\\beta(1-\\delta)\\mathrm{E}\\Big[\\Big(\\frac{c(k,\\epsilon;\\Gamma,z)}{c(k',\\epsilon';\\Gamma',z')}\\Big)^{\\nu} \\mid z,\\epsilon\\Big] - \\big(\\mu_c(k,\\epsilon;\\Gamma,z) - \\mu_k(k,\\epsilon;\\Gamma,z) \\big)\\bigg]^{-\\frac{1}{\\nu}} - 1$$\n",
    "and\n",
    "$$e_{EE,i} \\equiv e_{EE}(k_i,\\epsilon_i,\\Gamma,z)$$\n",
    "Here we want to train the model to capture binding constraints by itself. Note that in practice, during training we may end up with negative consumptions (that will be penalized), such that ratio $\\frac{c(k,\\epsilon;\\Gamma,z)}{c(k',\\epsilon';\\Gamma',z')}^\\nu$ may not be defined for $\\nu \\in \\mathbb{R}$.\n",
    "To solve this issue, I use RELU activation in the last two layers of the network, to enforce $c(k,\\epsilon;\\Gamma,z), k'(k,\\epsilon;\\Gamma,z), \\mu_c(k,\\epsilon;\\Gamma,z), \\mu_k(k,\\epsilon;\\Gamma,z)$ to be non-negative for all states.\n",
    "\n",
    "We define the error on the complementary-slackness condition on k as:\n",
    "$$e_{CS_k}(k,\\epsilon,\\Gamma,z) \\equiv \\frac{\\mu_k(k,\\epsilon;\\Gamma,z)}{U'(\\bar{c})} \\frac{k'(k,\\epsilon;\\Gamma,z)}{\\bar{k}}$$\n",
    "and\n",
    "$$e_{CS_k,i} \\equiv e_{CS_k}(k_i,\\epsilon_i,\\Gamma,z)$$\n",
    "\n",
    "We define the error on the complementary-slackness condition on c as:\n",
    "$$e_{CS_c}(k,\\epsilon,\\Gamma,z) \\equiv \\frac{\\mu_c(k,\\epsilon;\\Gamma,z)}{U'(\\bar{c})} \\frac{c(k,\\epsilon;\\Gamma,z)}{\\bar{c}}$$\n",
    "and\n",
    "$$e_{CS_c,i} \\equiv e_{CS_c}(k_i,\\epsilon_i,\\Gamma,z)$$\n",
    "\n",
    "The agent's budget constraint is:\n",
    "$$e_{BC}(k,\\epsilon,\\Gamma,z) \\equiv {\\bigg[\\big(1+r(\\hat{K},z)-\\delta\\big)\\frac{\\hat{K}}{N} - w(\\hat{K,z})\\frac{1}{2}\\bigg]}^{-1}\\bigg[ c + k' - \\big( 1 + r(\\hat{k}, \\hat{l}, z) - \\delta \\big)k - w(\\hat{k}, \\hat{l}, z)\\tilde{l}\\epsilon \\bigg] $$\n",
    "\n",
    "#### Aggregate error term\n",
    "At each period, we compute the aggregate $K \\equiv \\sum_{i=1}^{N}{k_i}$\n",
    "\n",
    "One way to proceed could be to define an error based on the market clearing condition on capital. Instead, we will enforce consumption to satisfy the market clearing condition at each period. Note that in doing so, we could still need to enforce that consumption is positive. Instead of enforcing a new constraint on a Lagrangian multiplier associated with consumption, I compute the error on MC by constraining consumption to be positive in the error, by using a transformation of the error that satisfies:\n",
    "$$\\lim_{c \\downarrow 0}{e_{MC}(c)} = \\infty$$\n",
    "This should prevent consumption from ever being non-positive.\n",
    "\n",
    "We define the error on the market clearing condition as:\n",
    "$$e_{MC} \\equiv \\frac{1}{K}\\bigg[\\sum_{i=1}^{N}{\\Big[\\hat{c}(k_i,\\epsilon_i;\\Gamma,z) + \\hat{k'}(k_i,\\epsilon_i;\\Gamma,z)\\Big]} - zK^{\\alpha}(Nu)^{1-\\alpha} - (1-\\delta)K\\bigg]$$\n",
    "\n",
    "We also define the error on the aggregate law of motion as:\n",
    "$$e_{LM} \\equiv $$\n",
    "\n",
    "#### Defining the loss function\n",
    "On a batch $\\mathcal{D}_{train}$, the loss function is defined as:\n",
    "$$l(\\theta) \\equiv \\frac{1}{\\mid\\mathcal{D}_{train}\\mid} \\sum_{x \\in \\mathcal{D}_{train}}{\\frac{1}{N-1}\\sum_{i=1}^{N}{\\Big(e_{EE,i}^2 + e_{CS_k,i}^2 + e_{CS_c,i}^2\\Big)} + e_{MC}^2}$$"
   ]
  },
  {
   "cell_type": "code",
   "execution_count": 1,
   "metadata": {},
   "outputs": [
    {
     "name": "stderr",
     "output_type": "stream",
     "text": [
      "2023-02-13 21:45:25.988316: I tensorflow/core/platform/cpu_feature_guard.cc:193] This TensorFlow binary is optimized with oneAPI Deep Neural Network Library (oneDNN) to use the following CPU instructions in performance-critical operations:  AVX2 FMA\n",
      "To enable them in other operations, rebuild TensorFlow with the appropriate compiler flags.\n"
     ]
    }
   ],
   "source": [
    "# Import modules\n",
    "import os\n",
    "import re\n",
    "from datetime import datetime\n",
    "\n",
    "import tensorflow as tf\n",
    "tf.config.run_functions_eagerly(True)\n",
    "import numpy as np\n",
    "\n",
    "import matplotlib.pyplot as plt\n",
    "from tqdm import tqdm\n",
    "from tensorflow import Tensor\n",
    "from tensorflow.keras.models import Model\n",
    "from tensorflow.keras.layers import * #Input, Dense, BatchNormalization\n",
    "from tensorflow.keras.initializers import RandomNormal, Zeros\n",
    "\n",
    "# Set the seed for replicable results\n",
    "seed = 2\n",
    "np.random.seed(seed)\n",
    "#tf.set_random_seed(seed)"
   ]
  },
  {
   "cell_type": "code",
   "execution_count": 2,
   "metadata": {},
   "outputs": [
    {
     "name": "stderr",
     "output_type": "stream",
     "text": [
      "2023-02-13 21:45:34.189319: I tensorflow/core/platform/cpu_feature_guard.cc:193] This TensorFlow binary is optimized with oneAPI Deep Neural Network Library (oneDNN) to use the following CPU instructions in performance-critical operations:  AVX2 FMA\n",
      "To enable them in other operations, rebuild TensorFlow with the appropriate compiler flags.\n"
     ]
    }
   ],
   "source": [
    "from utils import Z, z_l, z_h, P_z, E, eps_l, eps_h, P_eps, draw_z, draw_eps\n",
    "\n",
    "@tf.function\n",
    "def firm(K:Tensor, z:Tensor):\n",
    "    prod = z*tf.pow(K, α)*tf.pow(L, 1-α)\n",
    "    r = z*α*tf.pow(K, α-1)*tf.pow(L, 1-α)\n",
    "    w = z*(1-α)*tf.pow(K, α)*tf.pow(L, -α)\n",
    "    return prod, r, w\n",
    "\n",
    "# Other constants\n",
    "α = tf.constant(0.3, dtype=tf.float32)\n",
    "β = tf.constant(0.7, dtype=tf.float32)\n",
    "δ = tf.constant(0.1, dtype=tf.float32)\n",
    "γ = tf.constant(2.0, dtype=tf.float32)"
   ]
  },
  {
   "attachments": {},
   "cell_type": "markdown",
   "metadata": {},
   "source": [
    "## Neural Network - Model & Architecture\n",
    "\n",
    "![Schematic representation of the architecture of the neural network used for learning](NN-archi.png \"Neural network architecture\")\n",
    "\n",
    "To implement the residuals and learning process from Azinovic et al, we implemented a subclass of Tensorflow's Model class: "
   ]
  },
  {
   "cell_type": "code",
   "execution_count": 46,
   "metadata": {},
   "outputs": [],
   "source": [
    "@tf.function\n",
    "def budget_residual(k: Tensor, c: Tensor, eps:Tensor, kp: Tensor, r:float, w:float):\n",
    "    return tf.pow((1+r-δ)*tf.math.reduce_mean(k)-0.5*w,-1)*(w*eps + (1+r-δ)*k - kp - c)\n",
    "\n",
    "\n",
    "class DENRootModel(Model):\n",
    "    @tf.function\n",
    "    def __init__(self, *args, **kwargs):\n",
    "        super().__init__(*args, **kwargs)\n",
    "\n",
    "    @tf.function\n",
    "    def initialize_k(self):\n",
    "        k_ss = 35.\n",
    "        return tf.Variable(tf.random.uniform(shape=[self.N,], minval=0.5*k_ss, maxval=1.5*k_ss))\n",
    "\n",
    "    @tf.function\n",
    "    def _forward_DEPRECATED(self, z:Tensor, k:Tensor, eps:Tensor, training:bool=False):\n",
    "        \"\"\"\n",
    "        This function has an equivalent behavior to self.foward() and allows to illustrate its behavior agent-by-agent\n",
    "        However, it is not to be used as it does not take advantage of the speedup from batch-processing by Tensorflow\n",
    "        \"\"\"\n",
    "        kp = tf.Variable(tf.zeros_like(k))\n",
    "        mup = tf.Variable(tf.zeros_like(k))\n",
    "        c = tf.Variable(tf.zeros_like(k))\n",
    "        lambdap = tf.Variable(tf.zeros_like(k))\n",
    "\n",
    "        x_aggr = tf.concat([z[None],k],axis=0)\n",
    "        x_aggr = tf.reshape(x_aggr, shape=[1,-1])\n",
    "        for agent_id in range(self.N):\n",
    "            x_idio = tf.concat([k[agent_id][None], eps[agent_id][None]], axis=0)\n",
    "            x_idio = tf.reshape(x_idio, shape=[1,-1])\n",
    "            pol = self(inputs=(x_aggr, x_idio), training=training)\n",
    "            kp[agent_id].assign(pol[0,0])\n",
    "            mup[agent_id].assign(pol[0,1])\n",
    "            c[agent_id].assign(pol[0,2])\n",
    "            lambdap[agent_id].assign(pol[0,3])\n",
    "        return kp, mup, c, lambdap\n",
    "\n",
    "    @tf.function\n",
    "    def forward(self, z:Tensor, k:Tensor, eps:Tensor, training:bool=False):\n",
    "        pass\n",
    "\n",
    "    @tf.function\n",
    "    def residuals(self, z:Tensor, k:Tensor, eps:Tensor):\n",
    "        K = tf.math.reduce_sum(k)\n",
    "        if K<0:\n",
    "            print(\"K: NEGATIVE AGGREGATE CAPITAL DESPITE RELU!!\")\n",
    "        Y,r,w = firm(K,z)\n",
    "        #print(\"CURRENT-PERIOD AGGREGATE CAPITAL\")\n",
    "        #print(K)\n",
    "        #print(\"CURRENT-PERIOD PRODUCTION, ROC, WAGE\")\n",
    "        #print(Y,r,w)\n",
    "\n",
    "        # 1st forward pass\n",
    "        yp = self.forward(z, k, eps, training=True)\n",
    "        kp = yp[:,0]\n",
    "        mup = yp[:,1]\n",
    "        c = yp[:,2]\n",
    "        lambdap = yp[:,3]\n",
    "        C = tf.math.reduce_sum(c)\n",
    "        Kp = tf.math.reduce_sum(kp)\n",
    "        if Kp<0:\n",
    "            print(\"Kp: NEGATIVE AGGREGATE CAPITAL DESPITE RELU!!\")\n",
    "        BUDGET_RES = budget_residual(k, c, eps, kp, r, w)\n",
    "        CSK_RES = mup*kp\n",
    "        CSC_RES = c*lambdap\n",
    "\n",
    "        # For each possible value of next-period exogenous states, compute the next-period policy\n",
    "        kpp = tf.Variable(tf.zeros((self.N,2)))\n",
    "        Kpp = tf.Variable(tf.zeros((2,)))\n",
    "        mupp = tf.Variable(tf.zeros((self.N,2)))\n",
    "        lambdapp = tf.Variable(tf.zeros((self.N,2)))\n",
    "        cp = tf.Variable(tf.zeros((self.N,2)))\n",
    "        Cp = tf.Variable(tf.zeros((2,)))\n",
    "        ee_comp = tf.Variable(tf.zeros((self.N,2)))\n",
    "        # BUDGET_RES_COND = np.zeros((N,2))\n",
    "        # CSK_RES_COND = np.zeros((N,2))\n",
    "        # CSC_RES_COND = np.zeros((N,2))\n",
    "        # MC_RES_COND = np.zeros((N,2))\n",
    "\n",
    "        for zp_id, zp in enumerate(Z):\n",
    "            Yp,rp,wp = firm(Kp,zp)\n",
    "            epsp = draw_eps(self.N)\n",
    "            ypp = self.forward(zp, kp, epsp, training=True)\n",
    "            kpp[:,zp_id].assign(ypp[:,0])\n",
    "            mupp[:,zp_id].assign(ypp[:,1])\n",
    "            cp[:,zp_id].assign(ypp[:,2])\n",
    "            lambdapp[:,zp_id].assign(ypp[:,3])\n",
    "            ee_comp_tmp = tf.pow(c/cp[:,zp_id],γ)\n",
    "            ee_comp[:,zp_id].assign(tf.where(tf.math.is_nan(ee_comp_tmp), 1e6*tf.ones_like(ee_comp_tmp), ee_comp_tmp))\n",
    "            # BUDGET_RES_COND[:,zp_id] = budget_residual(kp, ypp[2], epsp, ypp[0], rp, wp)\n",
    "            # CSK_RES_COND[:,zp_id] = mupp[:,zp_id]*kpp[:,zp_id]\n",
    "            # CSC_RES_COND[:,zp_id] = cp[:,zp_id]*lambdapp[:,zp_id]\n",
    "\n",
    "            Kpp[zp_id].assign(tf.math.reduce_sum(kpp[:,zp_id]))\n",
    "            if Kpp[zp_id]<0:\n",
    "                print(\"Kpp[{0:d}]: NEGATIVE AGGREGATE CAPITAL DESPITE RELU!!\".format(zp_id))\n",
    "            Cp[zp_id].assign(tf.math.reduce_sum(cp[:,zp_id]))\n",
    "            # MC_RES_COND[zp_id] = Cp[zp_id] + Kpp[zp_id] - (1-δ)*Kp - Yp\n",
    "        \n",
    "        EE_RES = tf.pow(\n",
    "            β*(1-δ)*tf.tensordot(ee_comp,tf.transpose(P_z[int(z==z_h),:]), axes=1) - (lambdap - mup),\n",
    "            -1./γ\n",
    "        ) - 1\n",
    "        \n",
    "        MC_RES = tf.pow(K,-1)*(C + Kp - (1-δ)*K - Y)\n",
    "        return EE_RES, BUDGET_RES, CSK_RES, CSC_RES, MC_RES\n",
    "\n",
    "    @tf.function\n",
    "    def train_step(self, data, batch_size):\n",
    "        z, k, eps = data\n",
    "        ERR = 0\n",
    "        for per_id in range(batch_size):\n",
    "            y = self.forward(z, k, eps, training=False)\n",
    "            EE_RES, BUDGET_RES, CSK_RES, CSC_RES, MC_RES = self.residuals(z, k, eps)\n",
    "            # print(\"BUDGET RESIDUAL: \", BUDGET_RES*BUDGET_RES)\n",
    "            # print(\"CS on K: \", CSK_RES*CSK_RES)\n",
    "            # print(\"CS on C: \", CSC_RES*CSC_RES)\n",
    "            # print(\"MK: \", MC_RES*MC_RES)\n",
    "            # print(\"TOTAL ERROR FORM IS SOURCES: \", tf.math.reduce_mean(BUDGET_RES*BUDGET_RES + CSK_RES*CSK_RES + CSC_RES*CSC_RES))\n",
    "            ERR += (1./batch_size)*tf.math.reduce_mean(EE_RES*EE_RES + BUDGET_RES*BUDGET_RES + CSK_RES*CSK_RES + CSC_RES*CSC_RES) + MC_RES*MC_RES\n",
    "            k = y[:,0]\n",
    "            eps = draw_eps(self.N)\n",
    "            z = draw_z(z)\n",
    "        return ERR, z, k, eps, EE_RES, BUDGET_RES, CSK_RES, CSC_RES, MC_RES\n",
    "    \n",
    "    @tf.function\n",
    "    def train(self, n_epochs=1000, freq_out:int=50, batch_size: int=64):\n",
    "        z = z_h\n",
    "        eps = draw_eps(self.N)\n",
    "        k = self.initialize_k()\n",
    "        self.den_metrics = {\n",
    "            'mse': [],\n",
    "            'distr': [],\n",
    "            'res_ee_mean': [],\n",
    "            'res_csk_mean': [],\n",
    "            'res_csc_mean': [],\n",
    "            'res_budget_mean': [],\n",
    "            'res_mc': []\n",
    "        }\n",
    "\n",
    "        for epoch in tqdm(range(n_epochs)):\n",
    "            with tf.GradientTape() as tape:\n",
    "                ERR, z, k, eps, EE_RES, BUDGET_RES, CSK_RES, CSC_RES, MC_RES = self.train_step([z, k, eps], batch_size)\n",
    "            grads = tape.gradient(ERR, self.trainable_weights)\n",
    "            self.optimizer.apply_gradients(zip(grads, self.trainable_weights))\n",
    "            self.den_metrics['mse'].append(ERR.numpy())\n",
    "            self.den_metrics['distr'].append(k.numpy())\n",
    "            self.den_metrics['res_ee_mean'] = tf.math.reduce_mean(EE_RES)\n",
    "            self.den_metrics['res_budget_mean'] = tf.math.reduce_mean(BUDGET_RES)\n",
    "            self.den_metrics['res_csk_mean'] = tf.math.reduce_mean(CSK_RES)\n",
    "            self.den_metrics['res_csc_mean'] = tf.math.reduce_mean(CSC_RES)\n",
    "            self.den_metrics['res_mc'] = MC_RES\n",
    "\n",
    "            # Log every 200 batches.\n",
    "            if epoch % freq_out == 0:\n",
    "                print(\n",
    "                    \"Training loss (for one batch) at epoch %d: %.4f\"\n",
    "                    % (epoch, float(ERR))\n",
    "                )\n",
    "                print(\"Total # time iterations: %d\" % (batch_size*(1+epoch)))\n",
    "            \n",
    "        return self.den_metrics\n",
    "\n",
    "\n",
    "class DENModel(DENRootModel):\n",
    "    @tf.function\n",
    "    def __init__(self, n_aggr_repr:int, optimizer, N:int, *args, **kwargs):\n",
    "        self.N = N\n",
    "        self.distr_repr_dim = n_aggr_repr\n",
    "        self.optimizer = optimizer\n",
    "\n",
    "        kernel_initializer = RandomNormal(mean=0.0, stddev=0.01, seed=None)\n",
    "        bias_initializer = RandomNormal(mean=0.0, stddev=0.01, seed=None)\n",
    "\n",
    "        ## AGGREGATE REPRESENTATION UNITS\n",
    "        # Common network processes distribution-relevant information\n",
    "        x_aggr = Input(shape=(self.N+1, ), name='Distr-In')\n",
    "        #xn_aggr = BatchNormalization(axis=-1, momentum=0.99, epsilon=0.001, center=True, scale=True,)(x_aggr)\n",
    "        aggr_1 = Dense(units=8*self.distr_repr_dim, activation = 'tanh', kernel_initializer=kernel_initializer, bias_initializer=bias_initializer, name='Distr-Dense1')(x_aggr)\n",
    "        aggr_2 = Dense(units=8*self.distr_repr_dim, activation = 'tanh', kernel_initializer=kernel_initializer, bias_initializer=bias_initializer, name='Distr-Dense2')(aggr_1)\n",
    "        aggr_3 = Dense(units=4*self.distr_repr_dim, activation = 'tanh', kernel_initializer=kernel_initializer, bias_initializer=bias_initializer, name='Distr-Dense3')(aggr_2)\n",
    "        aggr_4 = Dense(units=self.distr_repr_dim, activation = 'tanh', kernel_initializer=kernel_initializer, bias_initializer=bias_initializer, name='Distr-Dense4')(aggr_3)\n",
    "\n",
    "        ## POLICY UNITS\n",
    "        # Agent-specific policy units\n",
    "        x_idio = Input(shape = (2, ), name='Idio-In')\n",
    "        combined = Concatenate(name='Intermediate_Input')([aggr_4, x_idio])\n",
    "        interp_c_h_1 = Dense(units=32, input_dim=2+self.distr_repr_dim, activation = 'tanh', kernel_initializer=kernel_initializer, bias_initializer=bias_initializer, name='Policy-Dense1')(combined)\n",
    "        interp_c_h_2 = Dense(units=32, activation = 'tanh', kernel_initializer=kernel_initializer, bias_initializer=bias_initializer, name='Policy-Dense2')(interp_c_h_1)\n",
    "        interp_c_h_3 = Dense(units=32, activation = 'relu', kernel_initializer=kernel_initializer, bias_initializer=bias_initializer, name='Policy-Relu1')(interp_c_h_2)\n",
    "        policy = Dense(units=4, activation = 'relu', kernel_initializer=kernel_initializer, bias_initializer=bias_initializer, name='Policy-Relu2')(interp_c_h_3)\n",
    "\n",
    "        super().__init__(inputs = [x_aggr,x_idio], outputs= policy, *args, **kwargs)\n",
    "\n",
    "    @tf.function\n",
    "    def forward(self, z:Tensor, k:Tensor, eps:Tensor, training:bool=False):\n",
    "        x_aggr = tf.concat([z[None],k],axis=0)\n",
    "        x_aggr = tf.tile(tf.reshape(x_aggr, shape=[1,-1]), tf.constant([self.N,1], tf.int32))\n",
    "        \n",
    "        x_idio = tf.concat([tf.reshape(k,[-1,1]),tf.reshape(eps,[-1,1])],axis=1)\n",
    "        y = self(inputs=(x_aggr, x_idio), training=training)\n",
    "        return y\n",
    "\n",
    "\n",
    "class DENHistoModel(DENRootModel):\n",
    "    @tf.function\n",
    "    def __init__(self, n_aggr_repr:int, optimizer, N:int, n_bins:int, k_min:float, k_max:float, *args, **kwargs):\n",
    "        self.N = N\n",
    "        self.n_bins = n_bins\n",
    "        self.k_min = k_min\n",
    "        self.k_max = k_max\n",
    "        self.bins = np.linspace(k_min, k_max, 1+self.n_bins)\n",
    "        self.distr_repr_dim = n_aggr_repr\n",
    "        self.optimizer = optimizer\n",
    "\n",
    "        kernel_initializer = RandomNormal(mean=0.0, stddev=0.01, seed=None)\n",
    "        bias_initializer = RandomNormal(mean=0.0, stddev=0.01, seed=None)\n",
    "\n",
    "        ## AGGREGATE REPRESENTATION UNITS\n",
    "        # Common network processes distribution-relevant information\n",
    "        x_aggr = Input(shape=(self.n_bins+1, ), name='Distr-In')\n",
    "        #xn_aggr = BatchNormalization(axis=-1, momentum=0.99, epsilon=0.001, center=True, scale=True,)(x_aggr)\n",
    "        aggr_1 = Dense(units=8*self.distr_repr_dim, activation = 'tanh', kernel_initializer=kernel_initializer, bias_initializer=bias_initializer, name='Distr-Dense1')(x_aggr)\n",
    "        aggr_2 = Dense(units=8*self.distr_repr_dim, activation = 'tanh', kernel_initializer=kernel_initializer, bias_initializer=bias_initializer, name='Distr-Dense2')(aggr_1)\n",
    "        aggr_3 = Dense(units=4*self.distr_repr_dim, activation = 'tanh', kernel_initializer=kernel_initializer, bias_initializer=bias_initializer, name='Distr-Dense3')(aggr_2)\n",
    "        aggr_4 = Dense(units=self.distr_repr_dim, activation = 'tanh', kernel_initializer=kernel_initializer, bias_initializer=bias_initializer, name='Distr-Dense4')(aggr_3)\n",
    "\n",
    "        ## POLICY UNITS\n",
    "        # Agent-specific policy units\n",
    "        x_idio = Input(shape = (2, ), name='Idio-In')\n",
    "        combined = Concatenate(name='Intermediate_Input')([aggr_4, x_idio])\n",
    "        interp_c_h_1 = Dense(units=32, input_dim=2+self.distr_repr_dim, activation = 'tanh', kernel_initializer=kernel_initializer, bias_initializer=bias_initializer, name='Policy-Dense1')(combined)\n",
    "        interp_c_h_2 = Dense(units=32, activation = 'tanh', kernel_initializer=kernel_initializer, bias_initializer=bias_initializer, name='Policy-Dense2')(interp_c_h_1)\n",
    "        interp_c_h_3 = Dense(units=32, activation = 'relu', kernel_initializer=kernel_initializer, bias_initializer=bias_initializer, name='Policy-Relu1')(interp_c_h_2)\n",
    "        policy = Dense(units=4, activation = 'relu', kernel_initializer=kernel_initializer, bias_initializer=bias_initializer, name='Policy-Relu2')(interp_c_h_3)\n",
    "\n",
    "        super().__init__(inputs = [x_aggr,x_idio], outputs= policy, *args, **kwargs)\n",
    "\n",
    "    @tf.function\n",
    "    def histogram(self, k:Tensor):\n",
    "        hist = np.histogram(k.numpy(), bins=self.bins)[0]\n",
    "        return tf.Variable(hist, dtype=tf.float32)\n",
    "\n",
    "    @tf.function\n",
    "    def forward(self, z:Tensor, k:Tensor, eps:Tensor, training:bool=False):\n",
    "        x_aggr = tf.concat([z[None],self.histogram(k)],axis=0)\n",
    "        x_aggr = tf.tile(tf.reshape(x_aggr, shape=[1,-1]), tf.constant([self.N,1], tf.int32))\n",
    "        \n",
    "        x_idio = tf.concat([tf.reshape(k,[-1,1]),tf.reshape(eps,[-1,1])],axis=1)\n",
    "        y = self(inputs=(x_aggr, x_idio), training=training)\n",
    "        return y\n",
    "    \n",
    "\n",
    "class DENKrusselModel(DENRootModel):\n",
    "    @tf.function\n",
    "    def __init__(self, optimizer, N:int, *args, **kwargs):\n",
    "        self.N = N\n",
    "        self.optimizer = optimizer\n",
    "\n",
    "        kernel_initializer = RandomNormal(mean=0.0, stddev=0.01, seed=None)\n",
    "        bias_initializer = RandomNormal(mean=0.0, stddev=0.01, seed=None)\n",
    "\n",
    "        ## AGGREGATE REPRESENTATION UNITS\n",
    "        # Common network processes distribution-relevant information\n",
    "        x_aggr = Input(shape=(2+1, ), name='Distr-In')\n",
    "        #xn_aggr = BatchNormalization(axis=-1, momentum=0.99, epsilon=0.001, center=True, scale=True,)(x_aggr)\n",
    "        aggr_1 = Dense(units=16, activation = 'tanh', kernel_initializer=kernel_initializer, bias_initializer=bias_initializer, name='Distr-Dense1')(x_aggr)\n",
    "        aggr_2 = Dense(units=16, activation = 'tanh', kernel_initializer=kernel_initializer, bias_initializer=bias_initializer, name='Distr-Dense3')(aggr_1)\n",
    "        aggr_3 = Dense(units=2, activation = 'tanh', kernel_initializer=kernel_initializer, bias_initializer=bias_initializer, name='Distr-Dense4')(aggr_2)\n",
    "\n",
    "        ## POLICY UNITS\n",
    "        # Agent-specific policy units\n",
    "        x_idio = Input(shape = (2, ), name='Idio-In')\n",
    "        combined = Concatenate(name='Intermediate_Input')([aggr_3, x_idio])\n",
    "        interp_c_h_1 = Dense(units=32, input_dim=2+2, activation = 'tanh', kernel_initializer=kernel_initializer, bias_initializer=bias_initializer, name='Policy-Dense1')(combined)\n",
    "        interp_c_h_2 = Dense(units=32, activation = 'tanh', kernel_initializer=kernel_initializer, bias_initializer=bias_initializer, name='Policy-Dense2')(interp_c_h_1)\n",
    "        interp_c_h_3 = Dense(units=32, activation = 'relu', kernel_initializer=kernel_initializer, bias_initializer=bias_initializer, name='Policy-Relu1')(interp_c_h_2)\n",
    "        policy = Dense(units=4, activation = 'relu', kernel_initializer=kernel_initializer, bias_initializer=bias_initializer, name='Policy-Relu2')(interp_c_h_3)\n",
    "\n",
    "        super().__init__(inputs = [x_aggr,x_idio], outputs= policy, *args, **kwargs)\n",
    "\n",
    "    @tf.function\n",
    "    def forward(self, z:Tensor, k:Tensor, eps:Tensor, training:bool=False):\n",
    "        x_aggr = tf.concat([z[None], tf.math.reduce_mean(k)[None], tf.math.reduce_std(k)[None]],axis=0)\n",
    "        x_aggr = tf.tile(tf.reshape(x_aggr, shape=[1,-1]), tf.constant([self.N,1], tf.int32))\n",
    "        \n",
    "        x_idio = tf.concat([tf.reshape(k,[-1,1]),tf.reshape(eps,[-1,1])],axis=1)\n",
    "        y = self(inputs=(x_aggr, x_idio), training=training)\n",
    "        return y   \n",
    "\n",
    "\n",
    "adam_optim = tf.keras.optimizers.Adam(\n",
    "    learning_rate=0.00001,\n",
    ")\n",
    "adagrad_optim = tf.keras.optimizers.Adagrad(learning_rate=0.0001)\n",
    "sgd_optim = tf.keras.optimizers.experimental.SGD(learning_rate=0.0001)"
   ]
  },
  {
   "attachments": {},
   "cell_type": "markdown",
   "metadata": {},
   "source": [
    "### Compact network approach"
   ]
  },
  {
   "cell_type": "code",
   "execution_count": 47,
   "metadata": {},
   "outputs": [
    {
     "name": "stdout",
     "output_type": "stream",
     "text": [
      "Model: \"den_model_24\"\n",
      "__________________________________________________________________________________________________\n",
      " Layer (type)                   Output Shape         Param #     Connected to                     \n",
      "==================================================================================================\n",
      " Distr-In (InputLayer)          [(None, 501)]        0           []                               \n",
      "                                                                                                  \n",
      " Distr-Dense1 (Dense)           (None, 16)           8032        ['Distr-In[0][0]']               \n",
      "                                                                                                  \n",
      " Distr-Dense2 (Dense)           (None, 16)           272         ['Distr-Dense1[0][0]']           \n",
      "                                                                                                  \n",
      " Distr-Dense3 (Dense)           (None, 8)            136         ['Distr-Dense2[0][0]']           \n",
      "                                                                                                  \n",
      " Distr-Dense4 (Dense)           (None, 2)            18          ['Distr-Dense3[0][0]']           \n",
      "                                                                                                  \n",
      " Idio-In (InputLayer)           [(None, 2)]          0           []                               \n",
      "                                                                                                  \n",
      " Intermediate_Input (Concatenat  (None, 4)           0           ['Distr-Dense4[0][0]',           \n",
      " e)                                                               'Idio-In[0][0]']                \n",
      "                                                                                                  \n",
      " Policy-Dense1 (Dense)          (None, 32)           160         ['Intermediate_Input[0][0]']     \n",
      "                                                                                                  \n",
      " Policy-Dense2 (Dense)          (None, 32)           1056        ['Policy-Dense1[0][0]']          \n",
      "                                                                                                  \n",
      " Policy-Relu1 (Dense)           (None, 32)           1056        ['Policy-Dense2[0][0]']          \n",
      "                                                                                                  \n",
      " Policy-Relu2 (Dense)           (None, 4)            132         ['Policy-Relu1[0][0]']           \n",
      "                                                                                                  \n",
      "==================================================================================================\n",
      "Total params: 10,862\n",
      "Trainable params: 10,862\n",
      "Non-trainable params: 0\n",
      "__________________________________________________________________________________________________\n"
     ]
    },
    {
     "name": "stderr",
     "output_type": "stream",
     "text": [
      "/Users/slebst/opt/miniconda3/lib/python3.9/site-packages/keras/initializers/initializers_v2.py:120: UserWarning: The initializer RandomNormal is unseeded and being called multiple times, which will return identical values  each time (even if the initializer is unseeded). Please update your code to provide a seed to the initializer, or avoid using the same initalizer instance more than once.\n",
      "  warnings.warn(\n"
     ]
    },
    {
     "name": "stdout",
     "output_type": "stream",
     "text": [
      "Model: \"den_histo_model_25\"\n",
      "__________________________________________________________________________________________________\n",
      " Layer (type)                   Output Shape         Param #     Connected to                     \n",
      "==================================================================================================\n",
      " Distr-In (InputLayer)          [(None, 51)]         0           []                               \n",
      "                                                                                                  \n",
      " Distr-Dense1 (Dense)           (None, 16)           832         ['Distr-In[0][0]']               \n",
      "                                                                                                  \n",
      " Distr-Dense2 (Dense)           (None, 16)           272         ['Distr-Dense1[0][0]']           \n",
      "                                                                                                  \n",
      " Distr-Dense3 (Dense)           (None, 8)            136         ['Distr-Dense2[0][0]']           \n",
      "                                                                                                  \n",
      " Distr-Dense4 (Dense)           (None, 2)            18          ['Distr-Dense3[0][0]']           \n",
      "                                                                                                  \n",
      " Idio-In (InputLayer)           [(None, 2)]          0           []                               \n",
      "                                                                                                  \n",
      " Intermediate_Input (Concatenat  (None, 4)           0           ['Distr-Dense4[0][0]',           \n",
      " e)                                                               'Idio-In[0][0]']                \n",
      "                                                                                                  \n",
      " Policy-Dense1 (Dense)          (None, 32)           160         ['Intermediate_Input[0][0]']     \n",
      "                                                                                                  \n",
      " Policy-Dense2 (Dense)          (None, 32)           1056        ['Policy-Dense1[0][0]']          \n",
      "                                                                                                  \n",
      " Policy-Relu1 (Dense)           (None, 32)           1056        ['Policy-Dense2[0][0]']          \n",
      "                                                                                                  \n",
      " Policy-Relu2 (Dense)           (None, 4)            132         ['Policy-Relu1[0][0]']           \n",
      "                                                                                                  \n",
      "==================================================================================================\n",
      "Total params: 3,662\n",
      "Trainable params: 3,662\n",
      "Non-trainable params: 0\n",
      "__________________________________________________________________________________________________\n"
     ]
    }
   ],
   "source": [
    "N = num_agents = 500\n",
    "L = N*tf.reduce_mean(E)\n",
    "initializer = tf.keras.initializers.GlorotUniform()\n",
    "\n",
    "model_w2 = DENModel(n_aggr_repr=2, N=500, optimizer=tf.keras.optimizers.Adam(learning_rate=0.00001))\n",
    "model_w2.summary()\n",
    "\n",
    "model_w4 = DENModel(n_aggr_repr=4, N=500, optimizer=tf.keras.optimizers.Adam(learning_rate=0.00001))\n",
    "model_w8 = DENModel(n_aggr_repr=8, N=500, optimizer=tf.keras.optimizers.Adam(learning_rate=0.00001))\n",
    "\n",
    "hmodel_w2 = DENHistoModel(n_aggr_repr=2, N=500, optimizer=tf.keras.optimizers.Adam(learning_rate=0.00001), n_bins=50, k_min=0, k_max=50)\n",
    "hmodel_w2.summary()\n",
    "\n",
    "hmodel_w4 = DENHistoModel(n_aggr_repr=4, N=500, optimizer=tf.keras.optimizers.Adam(learning_rate=0.00001), n_bins=50, k_min=0, k_max=50)\n",
    "hmodel_w8 = DENHistoModel(n_aggr_repr=8, N=500, optimizer=tf.keras.optimizers.Adam(learning_rate=0.00001), n_bins=50, k_min=0, k_max=50)\n",
    "\n",
    "kmodel = DENKrusselModel(N=500, optimizer=tf.keras.optimizers.Adam(learning_rate=0.00001))\n"
   ]
  },
  {
   "attachments": {},
   "cell_type": "markdown",
   "metadata": {},
   "source": [
    "### Model training - Impact of distribution representation dimensionality"
   ]
  },
  {
   "cell_type": "code",
   "execution_count": 14,
   "metadata": {},
   "outputs": [
    {
     "name": "stderr",
     "output_type": "stream",
     "text": [
      "  0%|          | 1/1500 [00:00<21:26,  1.17it/s]"
     ]
    },
    {
     "name": "stdout",
     "output_type": "stream",
     "text": [
      "Training loss (for one batch) at epoch 0: 3727.5034\n",
      "Total # time iterations: 8\n"
     ]
    },
    {
     "name": "stderr",
     "output_type": "stream",
     "text": [
      "  3%|▎         | 51/1500 [00:34<15:45,  1.53it/s]"
     ]
    },
    {
     "name": "stdout",
     "output_type": "stream",
     "text": [
      "Training loss (for one batch) at epoch 50: 3732.2339\n",
      "Total # time iterations: 408\n"
     ]
    },
    {
     "name": "stderr",
     "output_type": "stream",
     "text": [
      "  7%|▋         | 101/1500 [01:07<15:19,  1.52it/s]"
     ]
    },
    {
     "name": "stdout",
     "output_type": "stream",
     "text": [
      "Training loss (for one batch) at epoch 100: 3337.3315\n",
      "Total # time iterations: 808\n"
     ]
    },
    {
     "name": "stderr",
     "output_type": "stream",
     "text": [
      " 10%|█         | 151/1500 [01:40<15:16,  1.47it/s]"
     ]
    },
    {
     "name": "stdout",
     "output_type": "stream",
     "text": [
      "Training loss (for one batch) at epoch 150: 3032.1211\n",
      "Total # time iterations: 1208\n"
     ]
    },
    {
     "name": "stderr",
     "output_type": "stream",
     "text": [
      " 13%|█▎        | 201/1500 [02:14<14:59,  1.44it/s]"
     ]
    },
    {
     "name": "stdout",
     "output_type": "stream",
     "text": [
      "Training loss (for one batch) at epoch 200: 2786.5906\n",
      "Total # time iterations: 1608\n"
     ]
    },
    {
     "name": "stderr",
     "output_type": "stream",
     "text": [
      " 17%|█▋        | 251/1500 [02:51<15:36,  1.33it/s]"
     ]
    },
    {
     "name": "stdout",
     "output_type": "stream",
     "text": [
      "Training loss (for one batch) at epoch 250: 2583.0454\n",
      "Total # time iterations: 2008\n"
     ]
    },
    {
     "name": "stderr",
     "output_type": "stream",
     "text": [
      " 20%|██        | 301/1500 [03:29<17:31,  1.14it/s]"
     ]
    },
    {
     "name": "stdout",
     "output_type": "stream",
     "text": [
      "Training loss (for one batch) at epoch 300: 2410.6414\n",
      "Total # time iterations: 2408\n"
     ]
    },
    {
     "name": "stderr",
     "output_type": "stream",
     "text": [
      " 23%|██▎       | 351/1500 [04:04<13:17,  1.44it/s]"
     ]
    },
    {
     "name": "stdout",
     "output_type": "stream",
     "text": [
      "Training loss (for one batch) at epoch 350: 2261.5186\n",
      "Total # time iterations: 2808\n"
     ]
    },
    {
     "name": "stderr",
     "output_type": "stream",
     "text": [
      " 27%|██▋       | 401/1500 [04:43<13:38,  1.34it/s]"
     ]
    },
    {
     "name": "stdout",
     "output_type": "stream",
     "text": [
      "Training loss (for one batch) at epoch 400: 2130.4478\n",
      "Total # time iterations: 3208\n"
     ]
    },
    {
     "name": "stderr",
     "output_type": "stream",
     "text": [
      " 30%|███       | 451/1500 [05:17<12:22,  1.41it/s]"
     ]
    },
    {
     "name": "stdout",
     "output_type": "stream",
     "text": [
      "Training loss (for one batch) at epoch 450: 2013.7064\n",
      "Total # time iterations: 3608\n"
     ]
    },
    {
     "name": "stderr",
     "output_type": "stream",
     "text": [
      " 33%|███▎      | 501/1500 [05:55<11:15,  1.48it/s]"
     ]
    },
    {
     "name": "stdout",
     "output_type": "stream",
     "text": [
      "Training loss (for one batch) at epoch 500: 1908.5408\n",
      "Total # time iterations: 4008\n"
     ]
    },
    {
     "name": "stderr",
     "output_type": "stream",
     "text": [
      " 37%|███▋      | 551/1500 [06:35<11:52,  1.33it/s]"
     ]
    },
    {
     "name": "stdout",
     "output_type": "stream",
     "text": [
      "Training loss (for one batch) at epoch 550: 1812.8644\n",
      "Total # time iterations: 4408\n"
     ]
    },
    {
     "name": "stderr",
     "output_type": "stream",
     "text": [
      " 40%|████      | 601/1500 [07:14<11:39,  1.28it/s]"
     ]
    },
    {
     "name": "stdout",
     "output_type": "stream",
     "text": [
      "Training loss (for one batch) at epoch 600: 1726.5001\n",
      "Total # time iterations: 4808\n"
     ]
    },
    {
     "name": "stderr",
     "output_type": "stream",
     "text": [
      " 43%|████▎     | 651/1500 [07:56<11:41,  1.21it/s]"
     ]
    },
    {
     "name": "stdout",
     "output_type": "stream",
     "text": [
      "Training loss (for one batch) at epoch 650: 1647.4059\n",
      "Total # time iterations: 5208\n"
     ]
    },
    {
     "name": "stderr",
     "output_type": "stream",
     "text": [
      " 47%|████▋     | 701/1500 [08:39<11:28,  1.16it/s]"
     ]
    },
    {
     "name": "stdout",
     "output_type": "stream",
     "text": [
      "Training loss (for one batch) at epoch 700: 1573.7196\n",
      "Total # time iterations: 5608\n"
     ]
    },
    {
     "name": "stderr",
     "output_type": "stream",
     "text": [
      " 50%|█████     | 751/1500 [09:20<08:54,  1.40it/s]"
     ]
    },
    {
     "name": "stdout",
     "output_type": "stream",
     "text": [
      "Training loss (for one batch) at epoch 750: 1504.6499\n",
      "Total # time iterations: 6008\n"
     ]
    },
    {
     "name": "stderr",
     "output_type": "stream",
     "text": [
      " 53%|█████▎    | 801/1500 [10:01<08:57,  1.30it/s]"
     ]
    },
    {
     "name": "stdout",
     "output_type": "stream",
     "text": [
      "Training loss (for one batch) at epoch 800: 1439.5798\n",
      "Total # time iterations: 6408\n"
     ]
    },
    {
     "name": "stderr",
     "output_type": "stream",
     "text": [
      " 57%|█████▋    | 851/1500 [10:42<09:16,  1.17it/s]"
     ]
    },
    {
     "name": "stdout",
     "output_type": "stream",
     "text": [
      "Training loss (for one batch) at epoch 850: 1378.0176\n",
      "Total # time iterations: 6808\n"
     ]
    },
    {
     "name": "stderr",
     "output_type": "stream",
     "text": [
      " 60%|██████    | 901/1500 [11:19<07:25,  1.35it/s]"
     ]
    },
    {
     "name": "stdout",
     "output_type": "stream",
     "text": [
      "Training loss (for one batch) at epoch 900: 1319.5465\n",
      "Total # time iterations: 7208\n"
     ]
    },
    {
     "name": "stderr",
     "output_type": "stream",
     "text": [
      " 63%|██████▎   | 951/1500 [11:58<08:37,  1.06it/s]"
     ]
    },
    {
     "name": "stdout",
     "output_type": "stream",
     "text": [
      "Training loss (for one batch) at epoch 950: 1263.8214\n",
      "Total # time iterations: 7608\n"
     ]
    },
    {
     "name": "stderr",
     "output_type": "stream",
     "text": [
      " 67%|██████▋   | 1001/1500 [12:41<06:29,  1.28it/s]"
     ]
    },
    {
     "name": "stdout",
     "output_type": "stream",
     "text": [
      "Training loss (for one batch) at epoch 1000: 1210.5831\n",
      "Total # time iterations: 8008\n"
     ]
    },
    {
     "name": "stderr",
     "output_type": "stream",
     "text": [
      " 70%|███████   | 1051/1500 [13:28<07:16,  1.03it/s]"
     ]
    },
    {
     "name": "stdout",
     "output_type": "stream",
     "text": [
      "Training loss (for one batch) at epoch 1050: 1159.6066\n",
      "Total # time iterations: 8408\n"
     ]
    },
    {
     "name": "stderr",
     "output_type": "stream",
     "text": [
      " 73%|███████▎  | 1101/1500 [14:12<05:56,  1.12it/s]"
     ]
    },
    {
     "name": "stdout",
     "output_type": "stream",
     "text": [
      "Training loss (for one batch) at epoch 1100: 1110.7179\n",
      "Total # time iterations: 8808\n"
     ]
    },
    {
     "name": "stderr",
     "output_type": "stream",
     "text": [
      " 77%|███████▋  | 1151/1500 [14:52<04:33,  1.27it/s]"
     ]
    },
    {
     "name": "stdout",
     "output_type": "stream",
     "text": [
      "Training loss (for one batch) at epoch 1150: 1063.7759\n",
      "Total # time iterations: 9208\n"
     ]
    },
    {
     "name": "stderr",
     "output_type": "stream",
     "text": [
      " 80%|████████  | 1201/1500 [15:38<04:07,  1.21it/s]"
     ]
    },
    {
     "name": "stdout",
     "output_type": "stream",
     "text": [
      "Training loss (for one batch) at epoch 1200: 1018.6666\n",
      "Total # time iterations: 9608\n"
     ]
    },
    {
     "name": "stderr",
     "output_type": "stream",
     "text": [
      " 83%|████████▎ | 1251/1500 [16:22<04:50,  1.17s/it]"
     ]
    },
    {
     "name": "stdout",
     "output_type": "stream",
     "text": [
      "Training loss (for one batch) at epoch 1250: 975.3265\n",
      "Total # time iterations: 10008\n"
     ]
    },
    {
     "name": "stderr",
     "output_type": "stream",
     "text": [
      " 87%|████████▋ | 1301/1500 [17:10<03:23,  1.02s/it]"
     ]
    },
    {
     "name": "stdout",
     "output_type": "stream",
     "text": [
      "Training loss (for one batch) at epoch 1300: 934.4965\n",
      "Total # time iterations: 10408\n"
     ]
    },
    {
     "name": "stderr",
     "output_type": "stream",
     "text": [
      " 90%|█████████ | 1351/1500 [17:57<02:08,  1.16it/s]"
     ]
    },
    {
     "name": "stdout",
     "output_type": "stream",
     "text": [
      "Training loss (for one batch) at epoch 1350: 895.1875\n",
      "Total # time iterations: 10808\n"
     ]
    },
    {
     "name": "stderr",
     "output_type": "stream",
     "text": [
      " 93%|█████████▎| 1401/1500 [18:43<01:27,  1.13it/s]"
     ]
    },
    {
     "name": "stdout",
     "output_type": "stream",
     "text": [
      "Training loss (for one batch) at epoch 1400: 857.2905\n",
      "Total # time iterations: 11208\n"
     ]
    },
    {
     "name": "stderr",
     "output_type": "stream",
     "text": [
      " 97%|█████████▋| 1451/1500 [19:29<00:41,  1.18it/s]"
     ]
    },
    {
     "name": "stdout",
     "output_type": "stream",
     "text": [
      "Training loss (for one batch) at epoch 1450: 820.7957\n",
      "Total # time iterations: 11608\n"
     ]
    },
    {
     "name": "stderr",
     "output_type": "stream",
     "text": [
      "100%|██████████| 1500/1500 [20:15<00:00,  1.23it/s]\n"
     ]
    }
   ],
   "source": [
    "_ = model_w2.train(n_epochs=1500, freq_out=50, batch_size=8)"
   ]
  },
  {
   "cell_type": "code",
   "execution_count": 35,
   "metadata": {},
   "outputs": [
    {
     "name": "stderr",
     "output_type": "stream",
     "text": [
      "  0%|          | 1/1500 [00:00<20:37,  1.21it/s]"
     ]
    },
    {
     "name": "stdout",
     "output_type": "stream",
     "text": [
      "Training loss (for one batch) at epoch 0: 2272.0774\n",
      "Total # time iterations: 8\n"
     ]
    },
    {
     "name": "stderr",
     "output_type": "stream",
     "text": [
      "  3%|▎         | 51/1500 [00:33<15:33,  1.55it/s]"
     ]
    },
    {
     "name": "stdout",
     "output_type": "stream",
     "text": [
      "Training loss (for one batch) at epoch 50: 2318.9666\n",
      "Total # time iterations: 408\n"
     ]
    },
    {
     "name": "stderr",
     "output_type": "stream",
     "text": [
      "  7%|▋         | 101/1500 [01:07<15:23,  1.52it/s]"
     ]
    },
    {
     "name": "stdout",
     "output_type": "stream",
     "text": [
      "Training loss (for one batch) at epoch 100: 2100.1741\n",
      "Total # time iterations: 808\n"
     ]
    },
    {
     "name": "stderr",
     "output_type": "stream",
     "text": [
      " 10%|█         | 151/1500 [01:40<15:12,  1.48it/s]"
     ]
    },
    {
     "name": "stdout",
     "output_type": "stream",
     "text": [
      "Training loss (for one batch) at epoch 150: 1923.9298\n",
      "Total # time iterations: 1208\n"
     ]
    },
    {
     "name": "stderr",
     "output_type": "stream",
     "text": [
      " 13%|█▎        | 201/1500 [02:14<14:30,  1.49it/s]"
     ]
    },
    {
     "name": "stdout",
     "output_type": "stream",
     "text": [
      "Training loss (for one batch) at epoch 200: 1777.6133\n",
      "Total # time iterations: 1608\n"
     ]
    },
    {
     "name": "stderr",
     "output_type": "stream",
     "text": [
      " 17%|█▋        | 251/1500 [02:48<14:04,  1.48it/s]"
     ]
    },
    {
     "name": "stdout",
     "output_type": "stream",
     "text": [
      "Training loss (for one batch) at epoch 250: 1653.2952\n",
      "Total # time iterations: 2008\n"
     ]
    },
    {
     "name": "stderr",
     "output_type": "stream",
     "text": [
      " 20%|██        | 301/1500 [03:23<15:16,  1.31it/s]"
     ]
    },
    {
     "name": "stdout",
     "output_type": "stream",
     "text": [
      "Training loss (for one batch) at epoch 300: 1545.6625\n",
      "Total # time iterations: 2408\n"
     ]
    },
    {
     "name": "stderr",
     "output_type": "stream",
     "text": [
      " 23%|██▎       | 351/1500 [04:02<14:24,  1.33it/s]"
     ]
    },
    {
     "name": "stdout",
     "output_type": "stream",
     "text": [
      "Training loss (for one batch) at epoch 350: 1451.0120\n",
      "Total # time iterations: 2808\n"
     ]
    },
    {
     "name": "stderr",
     "output_type": "stream",
     "text": [
      " 27%|██▋       | 401/1500 [04:39<12:57,  1.41it/s]"
     ]
    },
    {
     "name": "stdout",
     "output_type": "stream",
     "text": [
      "Training loss (for one batch) at epoch 400: 1366.6653\n",
      "Total # time iterations: 3208\n"
     ]
    },
    {
     "name": "stderr",
     "output_type": "stream",
     "text": [
      " 30%|███       | 451/1500 [05:20<15:10,  1.15it/s]"
     ]
    },
    {
     "name": "stdout",
     "output_type": "stream",
     "text": [
      "Training loss (for one batch) at epoch 450: 1290.6334\n",
      "Total # time iterations: 3608\n"
     ]
    },
    {
     "name": "stderr",
     "output_type": "stream",
     "text": [
      " 33%|███▎      | 501/1500 [06:00<12:47,  1.30it/s]"
     ]
    },
    {
     "name": "stdout",
     "output_type": "stream",
     "text": [
      "Training loss (for one batch) at epoch 500: 1221.4054\n",
      "Total # time iterations: 4008\n"
     ]
    },
    {
     "name": "stderr",
     "output_type": "stream",
     "text": [
      " 37%|███▋      | 551/1500 [06:42<13:27,  1.18it/s]"
     ]
    },
    {
     "name": "stdout",
     "output_type": "stream",
     "text": [
      "Training loss (for one batch) at epoch 550: 1159.0579\n",
      "Total # time iterations: 4408\n"
     ]
    },
    {
     "name": "stderr",
     "output_type": "stream",
     "text": [
      " 40%|████      | 601/1500 [07:24<15:44,  1.05s/it]"
     ]
    },
    {
     "name": "stdout",
     "output_type": "stream",
     "text": [
      "Training loss (for one batch) at epoch 600: 1101.6990\n",
      "Total # time iterations: 4808\n"
     ]
    },
    {
     "name": "stderr",
     "output_type": "stream",
     "text": [
      " 43%|████▎     | 651/1500 [08:07<11:50,  1.19it/s]"
     ]
    },
    {
     "name": "stdout",
     "output_type": "stream",
     "text": [
      "Training loss (for one batch) at epoch 650: 1048.1660\n",
      "Total # time iterations: 5208\n"
     ]
    },
    {
     "name": "stderr",
     "output_type": "stream",
     "text": [
      " 47%|████▋     | 701/1500 [08:51<12:02,  1.11it/s]"
     ]
    },
    {
     "name": "stdout",
     "output_type": "stream",
     "text": [
      "Training loss (for one batch) at epoch 700: 997.8929\n",
      "Total # time iterations: 5608\n"
     ]
    },
    {
     "name": "stderr",
     "output_type": "stream",
     "text": [
      " 50%|█████     | 751/1500 [09:34<11:30,  1.08it/s]"
     ]
    },
    {
     "name": "stdout",
     "output_type": "stream",
     "text": [
      "Training loss (for one batch) at epoch 750: 950.4938\n",
      "Total # time iterations: 6008\n"
     ]
    },
    {
     "name": "stderr",
     "output_type": "stream",
     "text": [
      " 53%|█████▎    | 801/1500 [10:19<10:43,  1.09it/s]"
     ]
    },
    {
     "name": "stdout",
     "output_type": "stream",
     "text": [
      "Training loss (for one batch) at epoch 800: 905.6859\n",
      "Total # time iterations: 6408\n"
     ]
    },
    {
     "name": "stderr",
     "output_type": "stream",
     "text": [
      " 57%|█████▋    | 851/1500 [11:05<09:01,  1.20it/s]"
     ]
    },
    {
     "name": "stdout",
     "output_type": "stream",
     "text": [
      "Training loss (for one batch) at epoch 850: 863.0669\n",
      "Total # time iterations: 6808\n"
     ]
    },
    {
     "name": "stderr",
     "output_type": "stream",
     "text": [
      " 60%|██████    | 901/1500 [11:48<08:16,  1.21it/s]"
     ]
    },
    {
     "name": "stdout",
     "output_type": "stream",
     "text": [
      "Training loss (for one batch) at epoch 900: 822.3676\n",
      "Total # time iterations: 7208\n"
     ]
    },
    {
     "name": "stderr",
     "output_type": "stream",
     "text": [
      " 63%|██████▎   | 951/1500 [12:30<06:25,  1.42it/s]"
     ]
    },
    {
     "name": "stdout",
     "output_type": "stream",
     "text": [
      "Training loss (for one batch) at epoch 950: 783.3906\n",
      "Total # time iterations: 7608\n"
     ]
    },
    {
     "name": "stderr",
     "output_type": "stream",
     "text": [
      " 67%|██████▋   | 1001/1500 [13:09<06:29,  1.28it/s]"
     ]
    },
    {
     "name": "stdout",
     "output_type": "stream",
     "text": [
      "Training loss (for one batch) at epoch 1000: 746.0081\n",
      "Total # time iterations: 8008\n"
     ]
    },
    {
     "name": "stderr",
     "output_type": "stream",
     "text": [
      " 70%|███████   | 1051/1500 [13:57<06:45,  1.11it/s]"
     ]
    },
    {
     "name": "stdout",
     "output_type": "stream",
     "text": [
      "Training loss (for one batch) at epoch 1050: 710.3619\n",
      "Total # time iterations: 8408\n"
     ]
    },
    {
     "name": "stderr",
     "output_type": "stream",
     "text": [
      " 73%|███████▎  | 1101/1500 [14:45<05:43,  1.16it/s]"
     ]
    },
    {
     "name": "stdout",
     "output_type": "stream",
     "text": [
      "Training loss (for one batch) at epoch 1100: 676.1371\n",
      "Total # time iterations: 8808\n"
     ]
    },
    {
     "name": "stderr",
     "output_type": "stream",
     "text": [
      " 77%|███████▋  | 1151/1500 [15:31<05:20,  1.09it/s]"
     ]
    },
    {
     "name": "stdout",
     "output_type": "stream",
     "text": [
      "Training loss (for one batch) at epoch 1150: 643.2372\n",
      "Total # time iterations: 9208\n"
     ]
    },
    {
     "name": "stderr",
     "output_type": "stream",
     "text": [
      " 80%|████████  | 1201/1500 [16:17<04:49,  1.03it/s]"
     ]
    },
    {
     "name": "stdout",
     "output_type": "stream",
     "text": [
      "Training loss (for one batch) at epoch 1200: 611.6775\n",
      "Total # time iterations: 9608\n"
     ]
    },
    {
     "name": "stderr",
     "output_type": "stream",
     "text": [
      " 83%|████████▎ | 1251/1500 [17:09<03:55,  1.06it/s]"
     ]
    },
    {
     "name": "stdout",
     "output_type": "stream",
     "text": [
      "Training loss (for one batch) at epoch 1250: 581.4352\n",
      "Total # time iterations: 10008\n"
     ]
    },
    {
     "name": "stderr",
     "output_type": "stream",
     "text": [
      " 87%|████████▋ | 1301/1500 [17:53<03:19,  1.00s/it]"
     ]
    },
    {
     "name": "stdout",
     "output_type": "stream",
     "text": [
      "Training loss (for one batch) at epoch 1300: 552.7346\n",
      "Total # time iterations: 10408\n"
     ]
    },
    {
     "name": "stderr",
     "output_type": "stream",
     "text": [
      " 90%|█████████ | 1351/1500 [18:41<02:37,  1.06s/it]"
     ]
    },
    {
     "name": "stdout",
     "output_type": "stream",
     "text": [
      "Training loss (for one batch) at epoch 1350: 525.1821\n",
      "Total # time iterations: 10808\n"
     ]
    },
    {
     "name": "stderr",
     "output_type": "stream",
     "text": [
      " 93%|█████████▎| 1401/1500 [19:28<01:24,  1.17it/s]"
     ]
    },
    {
     "name": "stdout",
     "output_type": "stream",
     "text": [
      "Training loss (for one batch) at epoch 1400: 498.6767\n",
      "Total # time iterations: 11208\n"
     ]
    },
    {
     "name": "stderr",
     "output_type": "stream",
     "text": [
      " 97%|█████████▋| 1451/1500 [20:14<00:42,  1.16it/s]"
     ]
    },
    {
     "name": "stdout",
     "output_type": "stream",
     "text": [
      "Training loss (for one batch) at epoch 1450: 473.3295\n",
      "Total # time iterations: 11608\n"
     ]
    },
    {
     "name": "stderr",
     "output_type": "stream",
     "text": [
      "100%|██████████| 1500/1500 [20:56<00:00,  1.19it/s]\n"
     ]
    }
   ],
   "source": [
    "_ = hmodel_w2.train(n_epochs=1500, freq_out=50, batch_size=8)"
   ]
  },
  {
   "cell_type": "code",
   "execution_count": 48,
   "metadata": {},
   "outputs": [
    {
     "name": "stderr",
     "output_type": "stream",
     "text": [
      "  0%|          | 1/800 [00:00<12:11,  1.09it/s]"
     ]
    },
    {
     "name": "stdout",
     "output_type": "stream",
     "text": [
      "Training loss (for one batch) at epoch 0: 2345.8081\n",
      "Total # time iterations: 8\n"
     ]
    },
    {
     "name": "stderr",
     "output_type": "stream",
     "text": [
      "  6%|▋         | 51/800 [00:34<08:32,  1.46it/s]"
     ]
    },
    {
     "name": "stdout",
     "output_type": "stream",
     "text": [
      "Training loss (for one batch) at epoch 50: 2426.1980\n",
      "Total # time iterations: 408\n"
     ]
    },
    {
     "name": "stderr",
     "output_type": "stream",
     "text": [
      " 13%|█▎        | 101/800 [01:08<07:40,  1.52it/s]"
     ]
    },
    {
     "name": "stdout",
     "output_type": "stream",
     "text": [
      "Training loss (for one batch) at epoch 100: 2224.8169\n",
      "Total # time iterations: 808\n"
     ]
    },
    {
     "name": "stderr",
     "output_type": "stream",
     "text": [
      " 19%|█▉        | 151/800 [01:41<07:13,  1.50it/s]"
     ]
    },
    {
     "name": "stdout",
     "output_type": "stream",
     "text": [
      "Training loss (for one batch) at epoch 150: 2059.6609\n",
      "Total # time iterations: 1208\n"
     ]
    },
    {
     "name": "stderr",
     "output_type": "stream",
     "text": [
      " 25%|██▌       | 201/800 [02:15<06:48,  1.46it/s]"
     ]
    },
    {
     "name": "stdout",
     "output_type": "stream",
     "text": [
      "Training loss (for one batch) at epoch 200: 1920.5448\n",
      "Total # time iterations: 1608\n"
     ]
    },
    {
     "name": "stderr",
     "output_type": "stream",
     "text": [
      " 31%|███▏      | 251/800 [02:58<08:11,  1.12it/s]"
     ]
    },
    {
     "name": "stdout",
     "output_type": "stream",
     "text": [
      "Training loss (for one batch) at epoch 250: 1800.8640\n",
      "Total # time iterations: 2008\n"
     ]
    },
    {
     "name": "stderr",
     "output_type": "stream",
     "text": [
      " 38%|███▊      | 301/800 [03:39<07:01,  1.18it/s]"
     ]
    },
    {
     "name": "stdout",
     "output_type": "stream",
     "text": [
      "Training loss (for one batch) at epoch 300: 1696.3210\n",
      "Total # time iterations: 2408\n"
     ]
    },
    {
     "name": "stderr",
     "output_type": "stream",
     "text": [
      " 44%|████▍     | 351/800 [04:21<05:50,  1.28it/s]"
     ]
    },
    {
     "name": "stdout",
     "output_type": "stream",
     "text": [
      "Training loss (for one batch) at epoch 350: 1603.6541\n",
      "Total # time iterations: 2808\n"
     ]
    },
    {
     "name": "stderr",
     "output_type": "stream",
     "text": [
      " 44%|████▍     | 354/800 [04:23<05:53,  1.26it/s]"
     ]
    }
   ],
   "source": [
    "_ = kmodel.train(n_epochs=800, freq_out=50, batch_size=8)"
   ]
  },
  {
   "attachments": {},
   "cell_type": "markdown",
   "metadata": {},
   "source": [
    "### Impact of batch size"
   ]
  },
  {
   "cell_type": "code",
   "execution_count": null,
   "metadata": {},
   "outputs": [],
   "source": []
  },
  {
   "cell_type": "code",
   "execution_count": null,
   "metadata": {},
   "outputs": [],
   "source": []
  },
  {
   "attachments": {},
   "cell_type": "markdown",
   "metadata": {},
   "source": [
    "### Plotting results"
   ]
  },
  {
   "cell_type": "code",
   "execution_count": 16,
   "metadata": {},
   "outputs": [
    {
     "data": {
      "image/png": "[encoded data removed]",
      "text/plain": [
       "<Figure size 640x480 with 1 Axes>"
      ]
     },
     "metadata": {},
     "output_type": "display_data"
    }
   ],
   "source": [
    "plt.plot(\n",
    "    range(1500),\n",
    "    model_w2.den_metrics['mse'],\n",
    ")\n",
    "plt.xscale('log')\n",
    "plt.yscale('log')\n",
    "plt.grid()"
   ]
  },
  {
   "cell_type": "code",
   "execution_count": 36,
   "metadata": {},
   "outputs": [
    {
     "data": {
      "image/png": "[encoded data removed]",
      "text/plain": [
       "<Figure size 640x480 with 1 Axes>"
      ]
     },
     "metadata": {},
     "output_type": "display_data"
    }
   ],
   "source": [
    "plt.plot(\n",
    "    range(1500),\n",
    "    hmodel_w2.den_metrics['mse'],\n",
    ")\n",
    "plt.xscale('log')\n",
    "plt.yscale('log')\n",
    "plt.grid()"
   ]
  },
  {
   "cell_type": "code",
   "execution_count": 22,
   "metadata": {},
   "outputs": [],
   "source": [
    "def plot_policy(model:DENModel):\n",
    "    k_ss = 35.\n",
    "    fig, axes = plt.subplots(2,2, figsize=(14,14))\n",
    "    k_grid = np.linspace(0.5*k_ss, 1.5*k_ss, model.N).astype(float)\n",
    "    yp_ll = model.forward(z_l, tf.Variable(k_grid, dtype=tf.float32), tf.zeros_like(k_grid, dtype=tf.float32))\n",
    "    yp_lh = model.forward(z_h, tf.Variable(k_grid, dtype=tf.float32), tf.zeros_like(k_grid, dtype=tf.float32))\n",
    "    yp_hl = model.forward(z_l, tf.Variable(k_grid, dtype=tf.float32), tf.ones_like(k_grid, dtype=tf.float32))\n",
    "    yp_hh = model.forward(z_h, tf.Variable(k_grid, dtype=tf.float32), tf.ones_like(k_grid, dtype=tf.float32))\n",
    "\n",
    "    axes[0,0].plot(\n",
    "        k_grid,\n",
    "        yp_ll[:,0].numpy(),\n",
    "        label='z_l, eps=0'\n",
    "    )\n",
    "    axes[0,0].plot(\n",
    "        k_grid,\n",
    "        yp_lh[:,0].numpy(),\n",
    "        label='z_h, eps=0'\n",
    "    )\n",
    "    axes[0,0].plot(\n",
    "        k_grid,\n",
    "        yp_hl[:,0].numpy(),\n",
    "        label='z_l, eps=1'\n",
    "    )\n",
    "    axes[0,0].plot(\n",
    "        k_grid,\n",
    "        yp_hh[:,0].numpy(),\n",
    "        label='z_h, eps=1'\n",
    "    )\n",
    "    axes[0,0].legend()\n",
    "\n",
    "    axes[0,1].plot(\n",
    "        k_grid,\n",
    "        yp_ll[:,1].numpy(),\n",
    "        label='z_l, eps=0'\n",
    "    )\n",
    "    axes[0,1].plot(\n",
    "        k_grid,\n",
    "        yp_lh[:,1].numpy(),\n",
    "        label='z_h, eps=0'\n",
    "    )\n",
    "    axes[0,1].plot(\n",
    "        k_grid,\n",
    "        yp_hl[:,1].numpy(),\n",
    "        label='z_l, eps=1'\n",
    "    )\n",
    "    axes[0,1].plot(\n",
    "        k_grid,\n",
    "        yp_hh[:,1].numpy(),\n",
    "        label='z_h, eps=1'\n",
    "    )\n",
    "    axes[0,1].legend()\n",
    "\n",
    "    axes[1,0].plot(\n",
    "        k_grid,\n",
    "        yp_ll[:,2].numpy(),\n",
    "        label='z_l, eps=0'\n",
    "    )\n",
    "    axes[1,0].plot(\n",
    "        k_grid,\n",
    "        yp_lh[:,2].numpy(),\n",
    "        label='z_h, eps=0'\n",
    "    )\n",
    "    axes[1,0].plot(\n",
    "        k_grid,\n",
    "        yp_hl[:,2].numpy(),\n",
    "        label='z_l, eps=1'\n",
    "    )\n",
    "    axes[1,0].plot(\n",
    "        k_grid,\n",
    "        yp_hh[:,2].numpy(),\n",
    "        label='z_h, eps=1'\n",
    "    )\n",
    "    axes[1,0].legend()\n",
    "\n",
    "    axes[1,1].plot(\n",
    "        k_grid,\n",
    "        yp_ll[:,3].numpy(),\n",
    "        label='z_l, eps=0'\n",
    "    )\n",
    "    axes[1,1].plot(\n",
    "        k_grid,\n",
    "        yp_lh[:,3].numpy(),\n",
    "        label='z_h, eps=0'\n",
    "    )\n",
    "    axes[1,1].plot(\n",
    "        k_grid,\n",
    "        yp_hl[:,3].numpy(),\n",
    "        label='z_l, eps=1'\n",
    "    )\n",
    "    axes[1,1].plot(\n",
    "        k_grid,\n",
    "        yp_hh[:,3].numpy(),\n",
    "        label='z_h, eps=1'\n",
    "    )\n",
    "    axes[1,1].legend()\n",
    "\n",
    "def plot_distribution(model:DENModel):\n",
    "    fig, ax = plt.subplots(1,1, figsize=(10,10))\n",
    "    ax.hist(\n",
    "        model.den_metrics['distr']\n",
    "    )"
   ]
  },
  {
   "cell_type": "code",
   "execution_count": 23,
   "metadata": {},
   "outputs": [
    {
     "data": {
      "image/png": "[encoded data removed]",
      "text/plain": [
       "<Figure size 1400x1400 with 4 Axes>"
      ]
     },
     "metadata": {},
     "output_type": "display_data"
    }
   ],
   "source": [
    "plot_policy(model_w2)"
   ]
  },
  {
   "cell_type": "code",
   "execution_count": 37,
   "metadata": {},
   "outputs": [
    {
     "data": {
      "image/png": "[encoded data removed]",
      "text/plain": [
       "<Figure size 1400x1400 with 4 Axes>"
      ]
     },
     "metadata": {},
     "output_type": "display_data"
    }
   ],
   "source": [
    "plot_policy(hmodel_w2)"
   ]
  },
  {
   "cell_type": "code",
   "execution_count": 19,
   "metadata": {},
   "outputs": [
    {
     "data": {
      "image/png": "[encoded data removed]",
      "text/plain": [
       "<Figure size 1000x1000 with 1 Axes>"
      ]
     },
     "metadata": {},
     "output_type": "display_data"
    }
   ],
   "source": [
    "plot_distribution(model_w2)"
   ]
  }
 ],
 "metadata": {
  "kernelspec": {
   "display_name": "Dynamic Programming & DL",
   "language": "python",
   "name": "dynprog_env"
  },
  "language_info": {
   "codemirror_mode": {
    "name": "ipython",
    "version": 3
   },
   "file_extension": ".py",
   "mimetype": "text/x-python",
   "name": "python",
   "nbconvert_exporter": "python",
   "pygments_lexer": "ipython3",
   "version": "3.9.12"
  },
  "orig_nbformat": 4
 },
 "nbformat": 4,
 "nbformat_minor": 2
}
